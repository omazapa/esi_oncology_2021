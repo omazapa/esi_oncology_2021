{
 "cells": [
  {
   "cell_type": "markdown",
   "id": "e8b75e88",
   "metadata": {},
   "source": [
    "<img style=\"width:20%;float: left; margin-right: 10px;\" src=\"https://upload.wikimedia.org/wikipedia/en/a/ae/CERN_logo.svg\"/>\n",
    "\n",
    "# Medical Physics (CERN Day) - HANDS-ON on AI / ML \n",
    "\n",
    "\n",
    "## ESI Precision Oncology 2021\n",
    "\n",
    "\n",
    "**Omar Zapata, Enric Tejedor and Pere Mato for EP-SFT and KT**\n",
    "\n",
    "\n",
    "In this tutorial we are going to classify brain cancer tumors, for this we must follow a series of steps to preprocess the dataset, train and evaluate the model.\n",
    "\n",
    "Some exercises are proposed for the students to practice what they have learned in the demonstration.\n",
    "\n",
    "### Data Preprocessing\n",
    "\n",
    "The Frist part is the data preprocessing, please open the notebook in the link below.\n",
    "* [Dataset Preprocessing](Preprocessing.ipynb)\n",
    "\n",
    "### Machine Learning analysis\n",
    "\n",
    "After the data preprocessing the next step is to create a machine leanring model \n",
    "to classify the images. Please open the link below with the tutorial.\n",
    "* [CNN Model 2D](CNN_Classification_2D.ipynb)\n",
    "    \n",
    "    \n",
    "### Excercises\n",
    "\n",
    "We present here a list of exercises to the students in orden to practice the learned:\n",
    "\n",
    "* Compare the performance of the model using other categories such as: [\"no_tumor\",\"pituitary_tumor\"] and [\"no_tumor\",\"meningioma_tumor\"].\n",
    "for this please go to the notebook [CNN Model 2D](CNN_Classification_2D.ipynb) and in the cell number 2 change the raviable `categories_selected = [\"no_tumor\",\"glioma_tumor\"]` for the desire categories.\n",
    "Train the models and compare for example the accuracy along them.\n",
    "\n",
    "* Train the model with less epochs, for example 5, for this please go to the notebook [CNN Model 2D](CNN_Classification_2D.ipynb) restart it and in the cell number 9 change `epochs = 20` for `epochs = 5` and lets see what happens with the metrics in confusion matrix. How is affected the results when the number of epochs is reduced?\n",
    "\n",
    "* (\"Advanced\" **Homework**) what happens if we are using bigger images ex: 256x256?\n",
    "  * Why is required more computational resources?\n",
    "  * Can I use the same ML model? what I have to modify to the model?\n",
    "  * Could I get better metrics?\n",
    "\n",
    "\n",
    "\n",
    "\n"
   ]
  }
 ],
 "metadata": {
  "kernelspec": {
   "display_name": "Python 3 (ipykernel)",
   "language": "python",
   "name": "python3"
  },
  "language_info": {
   "codemirror_mode": {
    "name": "ipython",
    "version": 3
   },
   "file_extension": ".py",
   "mimetype": "text/x-python",
   "name": "python",
   "nbconvert_exporter": "python",
   "pygments_lexer": "ipython3",
   "version": "3.8.10"
  }
 },
 "nbformat": 4,
 "nbformat_minor": 5
}
