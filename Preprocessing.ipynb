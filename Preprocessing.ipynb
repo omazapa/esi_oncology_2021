{
 "cells": [
  {
   "cell_type": "markdown",
   "id": "f09b99de",
   "metadata": {},
   "source": [
    "<img style=\"width:20%;float: left; margin-right: 10px;\" src=\"https://upload.wikimedia.org/wikipedia/en/a/ae/CERN_logo.svg\"/>\n",
    "\n",
    "# 2D MRI images preprocessing"
   ]
  },
  {
   "cell_type": "code",
   "execution_count": null,
   "id": "956dffe0",
   "metadata": {},
   "outputs": [],
   "source": [
    "import numpy as np\n",
    "import matplotlib.pyplot as plt\n",
    "from skimage import color\n",
    "from skimage.transform import resize\n",
    "from skimage import io\n",
    "from tqdm import tqdm\n",
    "import glob\n",
    "import os\n"
   ]
  },
  {
   "cell_type": "code",
   "execution_count": null,
   "id": "0724feab",
   "metadata": {},
   "outputs": [],
   "source": [
    "categories = os.listdir(\"original/Training/\")\n",
    "categories"
   ]
  },
  {
   "cell_type": "code",
   "execution_count": null,
   "id": "ec13c01f",
   "metadata": {},
   "outputs": [],
   "source": [
    "def get_dataset_original(dataset=\"training\"): #other option is test\n",
    "    data_orig = {}\n",
    "    path = \"\"\n",
    "    if dataset == \"training\":\n",
    "        print(\"processing training dataset\")\n",
    "        path = \"original/Training\"\n",
    "        \n",
    "    if dataset == \"testing\":\n",
    "        print(\"processing testing dataset\")\n",
    "        path = \"original/Testing\"\n",
    "    \n",
    "    for category in categories:\n",
    "        cat_path=f\"{path}/{category}\"\n",
    "        print(f\"processing category {category} from path {cat_path}\")\n",
    "        imgs_files = glob.glob(f\"{cat_path}/*\")\n",
    "        imgs_np = []\n",
    "        shapes = []\n",
    "        for img in imgs_files:\n",
    "            mat = plt.imread(img, format='jpeg')\n",
    "            imgs_np.append(mat)\n",
    "            shapes.append(mat.shape)\n",
    "        data_orig[category] = {}\n",
    "        data_orig[category][\"shapes\"] = set(shapes) \n",
    "        data_orig[category][\"data\"] = imgs_np \n",
    "    return data_orig"
   ]
  },
  {
   "cell_type": "code",
   "execution_count": null,
   "id": "6fa80342",
   "metadata": {},
   "outputs": [],
   "source": [
    "def preprocess(dataset,img_shape = (64,64)):\n",
    "    \"\"\" moviendo a escala de grises por la falta de computo para procesar tantos canales\n",
    "        poniendo todas la images a la misma resolucion 64x64\n",
    "    \"\"\"\n",
    "    data = {}\n",
    "    for category in dataset:\n",
    "        raw_data = dataset[category][\"data\"]\n",
    "        new_data = []\n",
    "        for img in tqdm(raw_data):#poner una barra de progresso acá\n",
    "            nimg = color.rgb2gray(img)\n",
    "            nimg = resize(nimg,img_shape)\n",
    "            new_data.append(nimg)\n",
    "        data[category] = {}\n",
    "        data[category][\"data\"] = new_data\n",
    "    return data\n",
    "    \n",
    "    "
   ]
  },
  {
   "cell_type": "code",
   "execution_count": null,
   "id": "26fb111e",
   "metadata": {},
   "outputs": [],
   "source": [
    "def save_dataset_preprocessed(data,dataset=\"training\"):\n",
    "    path = \"\"\n",
    "    if dataset == \"training\":\n",
    "        path = \"preprocessed/Training\"\n",
    "        print(f\"saving training dataset to {path}\")\n",
    "        \n",
    "    if dataset == \"testing\":\n",
    "        path = \"preprocessed/Testing\"\n",
    "        print(f\"saving testing dataset to {path}\")\n",
    "            \n",
    "    for category in train:\n",
    "        print(f\"saving images for {category}\")\n",
    "        cat_path=f\"{path}/{category}\"\n",
    "        if not os.path.exists(cat_path):\n",
    "            os.makedirs(cat_path)\n",
    "        for img_n in range(len(data[category][\"data\"])):\n",
    "            np.save(f'{cat_path}/{img_n}.npy', data[category][\"data\"][img_n])\n"
   ]
  },
  {
   "cell_type": "code",
   "execution_count": null,
   "id": "92e8963e",
   "metadata": {},
   "outputs": [],
   "source": [
    "train = get_dataset_original(\"training\")"
   ]
  },
  {
   "cell_type": "code",
   "execution_count": null,
   "id": "7ece1637",
   "metadata": {},
   "outputs": [],
   "source": [
    "for category in train:\n",
    "    img_size = len(train[category][\"data\"])\n",
    "    print(f\"category = {category}  images = {img_size}\")"
   ]
  },
  {
   "cell_type": "code",
   "execution_count": null,
   "id": "8826e005",
   "metadata": {},
   "outputs": [],
   "source": [
    "for category in train:\n",
    "    img_shapes = len(train[category][\"shapes\"])\n",
    "    print(f\"category = {category}  images shapes = {img_shapes}\")"
   ]
  },
  {
   "cell_type": "code",
   "execution_count": null,
   "id": "2b9757c4",
   "metadata": {},
   "outputs": [],
   "source": [
    "fig = plt.figure(figsize=(20,20))\n",
    "plt.gray()  # show the filtered result in grayscale\n",
    "subplots=[]\n",
    "subplots.append(fig.add_subplot(141))\n",
    "subplots.append(fig.add_subplot(142))\n",
    "subplots.append(fig.add_subplot(143))\n",
    "subplots.append(fig.add_subplot(144))\n",
    "\n",
    "for i in range(len(categories)):\n",
    "    subplots[i].set_title(f'Train for {categories[i]} ')\n",
    "    subplots[i].imshow(train[categories[i]][\"data\"][0])\n",
    "##que podemos ver ahi?  imagenes de diferente tamaño, orientacion de la cabeza diferente, is not skull stripped\n",
    "## looks like a different weighted w1,w2 flat, sugerir usar https://github.com/ANTsX/ANTs\n",
    "## hablar de data augmentation"
   ]
  },
  {
   "cell_type": "code",
   "execution_count": null,
   "id": "d718204e",
   "metadata": {},
   "outputs": [],
   "source": [
    "train = preprocess(train)"
   ]
  },
  {
   "cell_type": "code",
   "execution_count": null,
   "id": "508af52a",
   "metadata": {},
   "outputs": [],
   "source": [
    "fig = plt.figure(figsize=(20,20))\n",
    "plt.gray()  # show the filtered result in grayscale\n",
    "subplots=[]\n",
    "subplots.append(fig.add_subplot(141))\n",
    "subplots.append(fig.add_subplot(142))\n",
    "subplots.append(fig.add_subplot(143))\n",
    "subplots.append(fig.add_subplot(144))\n",
    "\n",
    "for i in range(len(categories)):\n",
    "    subplots[i].set_title(f'Train for {categories[i]} ')\n",
    "    subplots[i].imshow(train[categories[i]][\"data\"][0])"
   ]
  },
  {
   "cell_type": "markdown",
   "id": "43efffa5",
   "metadata": {},
   "source": [
    "# Sugerir Ants\n",
    "es sugerido pero toma mucho tiempo, por eso no lo vamos a hacer en este tutorial"
   ]
  },
  {
   "cell_type": "code",
   "execution_count": null,
   "id": "e85d43bf",
   "metadata": {},
   "outputs": [],
   "source": [
    "test = get_dataset_original(\"testing\")"
   ]
  },
  {
   "cell_type": "code",
   "execution_count": null,
   "id": "cf744936",
   "metadata": {},
   "outputs": [],
   "source": [
    "fig = plt.figure(figsize=(20,20))\n",
    "plt.gray()  # show the filtered result in grayscale\n",
    "subplots=[]\n",
    "subplots.append(fig.add_subplot(141))\n",
    "subplots.append(fig.add_subplot(142))\n",
    "subplots.append(fig.add_subplot(143))\n",
    "subplots.append(fig.add_subplot(144))\n",
    "\n",
    "for i in range(len(categories)):\n",
    "    subplots[i].set_title(f'Train for {categories[i]} ')\n",
    "    subplots[i].imshow(test[categories[i]][\"data\"][0])"
   ]
  },
  {
   "cell_type": "code",
   "execution_count": null,
   "id": "ff4efbe9",
   "metadata": {},
   "outputs": [],
   "source": [
    "test = preprocess(test)"
   ]
  },
  {
   "cell_type": "code",
   "execution_count": null,
   "id": "5e4ff81c",
   "metadata": {},
   "outputs": [],
   "source": [
    "fig = plt.figure(figsize=(20,20))\n",
    "plt.gray()  # show the filtered result in grayscale\n",
    "subplots=[]\n",
    "subplots.append(fig.add_subplot(141))\n",
    "subplots.append(fig.add_subplot(142))\n",
    "subplots.append(fig.add_subplot(143))\n",
    "subplots.append(fig.add_subplot(144))\n",
    "\n",
    "for i in range(len(categories)):\n",
    "    subplots[i].set_title(f'Train for {categories[i]} ')\n",
    "    subplots[i].imshow(test[categories[i]][\"data\"][0])"
   ]
  },
  {
   "cell_type": "markdown",
   "id": "5bc39741",
   "metadata": {},
   "source": [
    "# Saving the preprocessed dataset"
   ]
  },
  {
   "cell_type": "code",
   "execution_count": null,
   "id": "958480e6",
   "metadata": {},
   "outputs": [],
   "source": [
    "save_dataset_preprocessed(train,\"training\")"
   ]
  },
  {
   "cell_type": "code",
   "execution_count": null,
   "id": "208a0a03",
   "metadata": {},
   "outputs": [],
   "source": [
    "save_dataset_preprocessed(test,\"testing\")"
   ]
  },
  {
   "cell_type": "code",
   "execution_count": null,
   "id": "caf2d11b",
   "metadata": {},
   "outputs": [],
   "source": []
  },
  {
   "cell_type": "code",
   "execution_count": null,
   "id": "e8937425",
   "metadata": {},
   "outputs": [],
   "source": []
  }
 ],
 "metadata": {
  "kernelspec": {
   "display_name": "Python 3 (ipykernel)",
   "language": "python",
   "name": "python3"
  },
  "language_info": {
   "codemirror_mode": {
    "name": "ipython",
    "version": 3
   },
   "file_extension": ".py",
   "mimetype": "text/x-python",
   "name": "python",
   "nbconvert_exporter": "python",
   "pygments_lexer": "ipython3",
   "version": "3.8.10"
  }
 },
 "nbformat": 4,
 "nbformat_minor": 5
}
