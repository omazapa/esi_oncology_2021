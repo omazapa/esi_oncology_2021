{
 "cells": [
  {
   "cell_type": "markdown",
   "id": "f09b99de",
   "metadata": {},
   "source": [
    "<img style=\"width:20%;float: left; margin-right: 10px;\" src=\"https://upload.wikimedia.org/wikipedia/en/a/ae/CERN_logo.svg\"/>\n",
    "\n",
    "# 2D MRI images preprocessing\n",
    "\n",
    "Data preprocessing is a fundamental part of data analysis, it allows us to understand the data that we are going to use for the machine learning model.\n",
    "\n",
    "For this case, we are going to use a public dataset <a href=\"#1\">[1]</a>, of MRI images for patients with brain tumor such as meningioma, glioma and pituitary and no tumors.\n"
   ]
  },
  {
   "cell_type": "markdown",
   "id": "1719aef9",
   "metadata": {},
   "source": [
    "<hr>\n",
    "\n",
    "# Let's get started!\n",
    "\n",
    "The first step is to import the required modules. those modules are to handle numeric arrays, plotting and transofrm the images."
   ]
  },
  {
   "cell_type": "code",
   "execution_count": null,
   "id": "956dffe0",
   "metadata": {},
   "outputs": [],
   "source": [
    "import numpy as np\n",
    "import matplotlib.pyplot as plt\n",
    "from skimage import color\n",
    "from skimage.transform import resize\n",
    "from skimage import io\n",
    "from tqdm import tqdm\n",
    "import glob\n",
    "import os\n"
   ]
  },
  {
   "cell_type": "markdown",
   "id": "1a401195",
   "metadata": {},
   "source": [
    "# Defining the categories\n",
    "\n",
    "The second step is to defined the categories for our problem, in our case is an array of four labels for meningioma, glioma, pituitary tumors and not tumor.\n"
   ]
  },
  {
   "cell_type": "code",
   "execution_count": null,
   "id": "0724feab",
   "metadata": {},
   "outputs": [],
   "source": [
    "categories = ['meningioma_tumor', 'glioma_tumor', 'pituitary_tumor', 'no_tumor']"
   ]
  },
  {
   "cell_type": "markdown",
   "id": "975b5c16",
   "metadata": {},
   "source": [
    "# Function to load the dataset\n",
    "\n",
    "This function allows to load the datasets for training and testing.\n",
    "\n",
    "\n",
    "This function returns  a dictionary with the images and the shapes, the parameter must be \"trainig\" or \"testing\" like string in order to select the proper set of data.\n"
   ]
  },
  {
   "cell_type": "code",
   "execution_count": null,
   "id": "ec13c01f",
   "metadata": {},
   "outputs": [],
   "source": [
    "def get_dataset_original(dataset=\"training\"): #other option is test\n",
    "    data_orig = {}\n",
    "    path = \"\"\n",
    "    if dataset == \"training\":\n",
    "        print(\"processing training dataset\")\n",
    "        path = \"initial/Training\"\n",
    "        \n",
    "    if dataset == \"testing\":\n",
    "        print(\"processing testing dataset\")\n",
    "        path = \"initial/Testing\"\n",
    "    \n",
    "    for category in categories:\n",
    "        cat_path=f\"{path}/{category}\"\n",
    "        print(f\"processing category {category} from path {cat_path}\")\n",
    "        imgs_files = glob.glob(f\"{cat_path}/*\")\n",
    "        imgs_np = []\n",
    "        shapes = []\n",
    "        for img in imgs_files:\n",
    "            mat = plt.imread(img, format='jpeg')\n",
    "            imgs_np.append(mat)\n",
    "            shapes.append(mat.shape)\n",
    "        data_orig[category] = {}\n",
    "        data_orig[category][\"shapes\"] = set(shapes) \n",
    "        data_orig[category][\"data\"] = imgs_np \n",
    "    return data_orig"
   ]
  },
  {
   "cell_type": "markdown",
   "id": "bb633153",
   "metadata": {},
   "source": [
    "# Function to preprocess the images\n",
    "\n",
    "This function does a basic preprocess, we take the images and set them all to 64x64 pixels shape in one channel.\n",
    "\n",
    "More sophisticated procedures could be performed, using advanced tools for the normalization of magnetic resonance and computed tomography, such as the ants<a href=\"#2\">[2] </a>, also skull stripping can be perform <a href=\"#3\"> [3] </a> that remove the skull from the images to improve accuracy, You can apply also transformations to remove noise to fix contrast etc..\n",
    "\n",
    "Due a limited time and computational resources we are doing a something basic here.\n"
   ]
  },
  {
   "cell_type": "code",
   "execution_count": null,
   "id": "6fa80342",
   "metadata": {},
   "outputs": [],
   "source": [
    "def preprocess(dataset,img_shape = (64,64)):\n",
    "    \"\"\" moviendo a escala de grises por la falta de computo para procesar tantos canales\n",
    "        poniendo todas la images a la misma resolucion 64x64\n",
    "    \"\"\"\n",
    "    data = {}\n",
    "    for category in dataset:\n",
    "        raw_data = dataset[category][\"data\"]\n",
    "        new_data = []\n",
    "        for img in tqdm(raw_data):#poner una barra de progresso acá\n",
    "            nimg = color.rgb2gray(img)\n",
    "            nimg = resize(nimg,img_shape)\n",
    "            new_data.append(nimg)\n",
    "        data[category] = {}\n",
    "        data[category][\"data\"] = new_data\n",
    "    return data\n",
    "    \n",
    "    "
   ]
  },
  {
   "cell_type": "markdown",
   "id": "d49f295d",
   "metadata": {},
   "source": [
    "# Function to save the preprocessed dataset\n",
    "\n",
    "This functions allows to save the preprocessed data in numpy arrays files.\n",
    "data will be save in folders called **\"preprocessed/Training\"** and **\"preprocessed/Testing\"**"
   ]
  },
  {
   "cell_type": "code",
   "execution_count": null,
   "id": "26fb111e",
   "metadata": {},
   "outputs": [],
   "source": [
    "def save_dataset_preprocessed(data,dataset=\"training\"):\n",
    "    path = \"\"\n",
    "    if dataset == \"training\":\n",
    "        path = \"preprocessed/Training\"\n",
    "        print(f\"saving training dataset to {path}\")\n",
    "        \n",
    "    if dataset == \"testing\":\n",
    "        path = \"preprocessed/Testing\"\n",
    "        print(f\"saving testing dataset to {path}\")\n",
    "            \n",
    "    for category in train:\n",
    "        print(f\"saving images for {category}\")\n",
    "        cat_path=f\"{path}/{category}\"\n",
    "        if not os.path.exists(cat_path):\n",
    "            os.makedirs(cat_path)\n",
    "        for img_n in range(len(data[category][\"data\"])):\n",
    "            np.save(f'{cat_path}/{img_n}.npy', data[category][\"data\"][img_n])\n"
   ]
  },
  {
   "cell_type": "markdown",
   "id": "c701685e",
   "metadata": {},
   "source": [
    "# Loading the initial training images\n",
    "\n",
    "Calling the previously defined function let's load the images in the initial state to do the preprocessing."
   ]
  },
  {
   "cell_type": "code",
   "execution_count": null,
   "id": "92e8963e",
   "metadata": {},
   "outputs": [],
   "source": [
    "train = get_dataset_original(\"training\")"
   ]
  },
  {
   "cell_type": "markdown",
   "id": "ad959430",
   "metadata": {},
   "source": [
    "# Printing information about the dataset\n",
    "\n",
    "In the next two cells you can find the number of images  and the number of different shapes by category."
   ]
  },
  {
   "cell_type": "code",
   "execution_count": null,
   "id": "7ece1637",
   "metadata": {},
   "outputs": [],
   "source": [
    "for category in train:\n",
    "    img_size = len(train[category][\"data\"])\n",
    "    print(f\"category = {category}  images = {img_size}\")"
   ]
  },
  {
   "cell_type": "code",
   "execution_count": null,
   "id": "8826e005",
   "metadata": {},
   "outputs": [],
   "source": [
    "for category in train:\n",
    "    img_shapes = len(train[category][\"shapes\"])\n",
    "    print(f\"category = {category}  images shapes = {img_shapes}\")"
   ]
  },
  {
   "cell_type": "markdown",
   "id": "53d81c07",
   "metadata": {},
   "source": [
    "# Analysing some images\n",
    "\n",
    "Lets see how looks the images running the cell below.\n",
    "we can see that images has **differents sizes**, it is **not skull stripped** and probably not normalized.\n",
    "\n",
    "Other important thing to have in mind is the orientation of the patient, as you can see in the plots below after executing the cell that we have different 2D images with **mixed orintation**.\n",
    "Just to remember the next images shows the different orientations <a id=\"4\">[4] </a>\n",
    "<img src=\"https://my-ms.org/images/mri_planes_gnu.jpg\" style=\"width:40%\" />\n",
    "\n",
    "Finally, is important to have in mind that MRIs can be of different types called sequences, T1-weighted, T2-weighted and Flair <a id=\"5\">[5] </a>.\n",
    "<img src=\"https://case.edu/med/neurology/NR/t1t2flairbrain.jpg\" style=\"\"/>\n",
    "\n",
    "For this dataset according to this <a src=\"https://www.kaggle.com/sartajbhuvaji/brain-tumor-classification-mri/discussion/214801\"> post </a> **We are using all three**.\n",
    "\n"
   ]
  },
  {
   "cell_type": "code",
   "execution_count": null,
   "id": "2b9757c4",
   "metadata": {},
   "outputs": [],
   "source": [
    "for j in range(2):\n",
    "    fig = plt.figure(figsize=(20,20))\n",
    "    plt.gray()  # show the filtered result in grayscale\n",
    "    subplots=[]\n",
    "    subplots.append(fig.add_subplot(141))\n",
    "    subplots.append(fig.add_subplot(142))\n",
    "    subplots.append(fig.add_subplot(143))\n",
    "    subplots.append(fig.add_subplot(144))\n",
    "    for i in range(len(categories)):\n",
    "        subplots[i].set_title(f'Train for {categories[i]} ')\n",
    "        subplots[i].imshow(train[categories[i]][\"data\"][j])"
   ]
  },
  {
   "cell_type": "code",
   "execution_count": null,
   "id": "d718204e",
   "metadata": {},
   "outputs": [],
   "source": [
    "train = preprocess(train)"
   ]
  },
  {
   "cell_type": "code",
   "execution_count": null,
   "id": "508af52a",
   "metadata": {},
   "outputs": [],
   "source": [
    "fig = plt.figure(figsize=(20,20))\n",
    "plt.gray()  # show the filtered result in grayscale\n",
    "subplots=[]\n",
    "subplots.append(fig.add_subplot(141))\n",
    "subplots.append(fig.add_subplot(142))\n",
    "subplots.append(fig.add_subplot(143))\n",
    "subplots.append(fig.add_subplot(144))\n",
    "\n",
    "for i in range(len(categories)):\n",
    "    subplots[i].set_title(f'Train for {categories[i]} ')\n",
    "    subplots[i].imshow(train[categories[i]][\"data\"][0])"
   ]
  },
  {
   "cell_type": "markdown",
   "id": "43efffa5",
   "metadata": {},
   "source": [
    "# Doing the same for the testing\n",
    "\n",
    "As a in the trainig dataset, lets do the same for the testing."
   ]
  },
  {
   "cell_type": "code",
   "execution_count": null,
   "id": "e85d43bf",
   "metadata": {},
   "outputs": [],
   "source": [
    "test = get_dataset_original(\"testing\")"
   ]
  },
  {
   "cell_type": "code",
   "execution_count": null,
   "id": "cf744936",
   "metadata": {},
   "outputs": [],
   "source": [
    "for j in range(2):\n",
    "    fig = plt.figure(figsize=(20,20))\n",
    "    plt.gray()  # show the filtered result in grayscale\n",
    "    subplots=[]\n",
    "    subplots.append(fig.add_subplot(141))\n",
    "    subplots.append(fig.add_subplot(142))\n",
    "    subplots.append(fig.add_subplot(143))\n",
    "    subplots.append(fig.add_subplot(144))\n",
    "    for i in range(len(categories)):\n",
    "        subplots[i].set_title(f'Test for {categories[i]} ')\n",
    "        subplots[i].imshow(test[categories[i]][\"data\"][j])"
   ]
  },
  {
   "cell_type": "code",
   "execution_count": null,
   "id": "ff4efbe9",
   "metadata": {},
   "outputs": [],
   "source": [
    "test = preprocess(test)"
   ]
  },
  {
   "cell_type": "code",
   "execution_count": null,
   "id": "5e4ff81c",
   "metadata": {},
   "outputs": [],
   "source": [
    "fig = plt.figure(figsize=(20,20))\n",
    "plt.gray()  # show the filtered result in grayscale\n",
    "subplots=[]\n",
    "subplots.append(fig.add_subplot(141))\n",
    "subplots.append(fig.add_subplot(142))\n",
    "subplots.append(fig.add_subplot(143))\n",
    "subplots.append(fig.add_subplot(144))\n",
    "\n",
    "for i in range(len(categories)):\n",
    "    subplots[i].set_title(f'Train for {categories[i]} ')\n",
    "    subplots[i].imshow(test[categories[i]][\"data\"][0])"
   ]
  },
  {
   "cell_type": "markdown",
   "id": "5bc39741",
   "metadata": {},
   "source": [
    "# Saving the preprocessed dataset\n",
    "\n",
    "Saving the datasets for the next part of the tutorial."
   ]
  },
  {
   "cell_type": "code",
   "execution_count": null,
   "id": "958480e6",
   "metadata": {},
   "outputs": [],
   "source": [
    "save_dataset_preprocessed(train,\"training\")"
   ]
  },
  {
   "cell_type": "code",
   "execution_count": null,
   "id": "208a0a03",
   "metadata": {},
   "outputs": [],
   "source": [
    "save_dataset_preprocessed(test,\"testing\")"
   ]
  },
  {
   "cell_type": "markdown",
   "id": "40d04806",
   "metadata": {},
   "source": [
    "\n",
    "# References\n",
    "\n",
    "<a id=\"1\">[1] </a> https://www.kaggle.com/sartajbhuvaji/brain-tumor-classification-mri\n",
    "\n",
    "<a id=\"2\">[2] </a>https://github.com/ANTsX/ANTs\n",
    "\n",
    "<a id=\"3\">[3] </a> https://www.ncbi.nlm.nih.gov/pmc/articles/PMC4879034/\n",
    "\n",
    "<a id=\"4\">[4] </a> https://my-ms.org/mri_planes.htm\n",
    "\n",
    "<a id=\"5\">[5] </a> https://case.edu/med/neurology/NR/MRI%20Basics.htm"
   ]
  },
  {
   "cell_type": "markdown",
   "id": "17f67aff",
   "metadata": {},
   "source": [
    "### Come back to the index\n",
    "\n",
    "Lets come back to the index to continue with the tutorial.\n",
    "* [Index](index.ipynb)"
   ]
  }
 ],
 "metadata": {
  "kernelspec": {
   "display_name": "Python 3 (ipykernel)",
   "language": "python",
   "name": "python3"
  },
  "language_info": {
   "codemirror_mode": {
    "name": "ipython",
    "version": 3
   },
   "file_extension": ".py",
   "mimetype": "text/x-python",
   "name": "python",
   "nbconvert_exporter": "python",
   "pygments_lexer": "ipython3",
   "version": "3.8.10"
  }
 },
 "nbformat": 4,
 "nbformat_minor": 5
}
