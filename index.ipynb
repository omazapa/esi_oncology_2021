{
 "cells": [
  {
   "cell_type": "markdown",
   "id": "e8b75e88",
   "metadata": {},
   "source": [
    "<img style=\"width:20%;float: left; margin-right: 10px;\" src=\"https://upload.wikimedia.org/wikipedia/en/a/ae/CERN_logo.svg\"/>\n",
    "\n",
    "# Medical Physics (CERN Day) - HANDS-ON on AI / ML \n",
    "\n",
    "\n",
    "## ESI Precision Oncology 2021\n",
    "\n",
    "\n",
    "**Omar Zapata, Enric Tejedor and Pere Mato for EP-SFT and KT**\n",
    "\n",
    "\n",
    "In this tutorial we are going to classify brain cancer tumors, for this we must follow a series of steps to preprocess the dataset, train and evaluate the model.\n",
    "\n",
    "Some exercises are proposed for the students to practice what they have learned in the demonstration.\n",
    "\n",
    "### Data Preprocessing\n",
    "\n",
    "The first part is the data preprocessing, please open the notebook in the link below.\n",
    "* [Dataset Preprocessing](Preprocessing.ipynb)\n",
    "\n",
    "### Machine Learning analysis\n",
    "\n",
    "After the data preprocessing the next step is to create a machine learning model \n",
    "to classify the images. Please open the link below with the tutorial.\n",
    "* [CNN Model 2D](CNN_Classification_2D.ipynb)\n",
    "    \n",
    "    \n",
    "### Exercises\n",
    "\n",
    "We present here a list of exercises for the students to practice what we have learned:\n",
    "\n",
    "* Compare the performance of the model using different categories such as: [\"no_tumor\",\"pituitary_tumor\"] and [\"no_tumor\",\"meningioma_tumor\"].\n",
    "for this please go to the notebook [CNN Model 2D](CNN_Classification_2D.ipynb) and in cell number 2 change the variable `categories_selected = [\"no_tumor\",\"glioma_tumor\"]` for the desired categories.\n",
    "Train the models and compare for example the resulting accuracy.\n",
    "\n",
    "* Train the model with less epochs, for example 5, for this please go to the notebook [CNN Model 2D](CNN_Classification_2D.ipynb) restart it and in cell number 9 change `epochs = 20` to `epochs = 5` and let's see what happens with the metrics in the confusion matrix. How do results change when the number of epochs is reduced?\n",
    "\n",
    "* (\"Advanced\" **Homework**) what happens if we are using bigger images ex: 256x256?\n",
    "  * Why are more computational resources required?\n",
    "  * Can I use the same ML model? What do I have to modify in the model?\n",
    "  * Could I get better metric results?\n",
    "\n",
    "\n",
    "\n",
    "\n"
   ]
  }
 ],
 "metadata": {
  "kernelspec": {
   "display_name": "Python 3 (ipykernel)",
   "language": "python",
   "name": "python3"
  },
  "language_info": {
   "codemirror_mode": {
    "name": "ipython",
    "version": 3
   },
   "file_extension": ".py",
   "mimetype": "text/x-python",
   "name": "python",
   "nbconvert_exporter": "python",
   "pygments_lexer": "ipython3",
   "version": "3.8.10"
  }
 },
 "nbformat": 4,
 "nbformat_minor": 5
}
