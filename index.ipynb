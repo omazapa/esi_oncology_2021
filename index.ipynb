{
 "cells": [
  {
   "cell_type": "markdown",
   "id": "e8b75e88",
   "metadata": {},
   "source": [
    "<img style=\"width:20%;float: left; margin-right: 10px;\" src=\"https://upload.wikimedia.org/wikipedia/en/a/ae/CERN_logo.svg\"/>\n",
    "\n",
    "# Medical Physics (CERN Day) - HANDS-ON on AI / ML \n",
    "\n",
    "\n",
    "## Precision Oncology 2021\n",
    "\n",
    "In this tutorial we are going to claasify brain cancer tumors, for it we need to follow a set of steps to preprocess the dataset, train and evaluate the model.\n",
    "\n",
    "Some exercises are proposed for the students to practice what they have learned in the demonstration.\n",
    "\n",
    "### Data Preprocessing\n",
    "\n",
    "The Frist part is the data preprocessing, please open the notebook in the link below.\n",
    "* <h2><a href=\"/notebooks/dataset/Preprocessing.ipynb\">Dataset Preprocessing.ipynb<a/></h2>\n",
    "\n",
    "### Machine Learning analsys\n",
    "    \n",
    "    \n",
    "    \n",
    "### Excercises\n",
    "    "
   ]
  },
  {
   "cell_type": "code",
   "execution_count": null,
   "id": "82ffd189",
   "metadata": {},
   "outputs": [],
   "source": []
  }
 ],
 "metadata": {
  "kernelspec": {
   "display_name": "Python 3 (ipykernel)",
   "language": "python",
   "name": "python3"
  },
  "language_info": {
   "codemirror_mode": {
    "name": "ipython",
    "version": 3
   },
   "file_extension": ".py",
   "mimetype": "text/x-python",
   "name": "python",
   "nbconvert_exporter": "python",
   "pygments_lexer": "ipython3",
   "version": "3.8.10"
  }
 },
 "nbformat": 4,
 "nbformat_minor": 5
}
